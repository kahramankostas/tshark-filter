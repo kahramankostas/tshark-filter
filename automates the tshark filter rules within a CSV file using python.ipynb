{
 "cells": [
  {
   "cell_type": "markdown",
   "metadata": {},
   "source": [
    "# automates the tshark filter rules within a CSV file using python."
   ]
  },
  {
   "cell_type": "code",
   "execution_count": 1,
   "metadata": {},
   "outputs": [],
   "source": [
    "import os\n",
    "import pandas as pd"
   ]
  },
  {
   "cell_type": "markdown",
   "metadata": {},
   "source": [
    "##   The \"filter.csv\" file contains 4 different categories.\n",
    "## the most necessary here are \"File Name\" and \"Rule\".\n",
    "## It may be wise to use Category\tand Sub-category options if you are going to apply multiple rules to the same PCAP file.\n"
   ]
  },
  {
   "cell_type": "code",
   "execution_count": 3,
   "metadata": {},
   "outputs": [
    {
     "data": {
      "text/html": [
       "<div>\n",
       "<style scoped>\n",
       "    .dataframe tbody tr th:only-of-type {\n",
       "        vertical-align: middle;\n",
       "    }\n",
       "\n",
       "    .dataframe tbody tr th {\n",
       "        vertical-align: top;\n",
       "    }\n",
       "\n",
       "    .dataframe thead th {\n",
       "        text-align: right;\n",
       "    }\n",
       "</style>\n",
       "<table border=\"1\" class=\"dataframe\">\n",
       "  <thead>\n",
       "    <tr style=\"text-align: right;\">\n",
       "      <th></th>\n",
       "      <th>No</th>\n",
       "      <th>File Name</th>\n",
       "      <th>Category</th>\n",
       "      <th>Sub-category</th>\n",
       "      <th>Rule</th>\n",
       "    </tr>\n",
       "  </thead>\n",
       "  <tbody>\n",
       "    <tr>\n",
       "      <th>0</th>\n",
       "      <td>1</td>\n",
       "      <td>1.pcap</td>\n",
       "      <td>a</td>\n",
       "      <td>x</td>\n",
       "      <td>ip.dst == 111.11.111.11</td>\n",
       "    </tr>\n",
       "    <tr>\n",
       "      <th>1</th>\n",
       "      <td>2</td>\n",
       "      <td>1.pcap</td>\n",
       "      <td>a</td>\n",
       "      <td>x</td>\n",
       "      <td>ip.dst == 111.11.111.12</td>\n",
       "    </tr>\n",
       "    <tr>\n",
       "      <th>2</th>\n",
       "      <td>3</td>\n",
       "      <td>1.pcap</td>\n",
       "      <td>a</td>\n",
       "      <td>x</td>\n",
       "      <td>ip.dst == 111.11.111.13</td>\n",
       "    </tr>\n",
       "    <tr>\n",
       "      <th>3</th>\n",
       "      <td>4</td>\n",
       "      <td>1.pcap</td>\n",
       "      <td>b</td>\n",
       "      <td>w</td>\n",
       "      <td>ip.dst == 111.11.111.14</td>\n",
       "    </tr>\n",
       "    <tr>\n",
       "      <th>4</th>\n",
       "      <td>5</td>\n",
       "      <td>1.pcap</td>\n",
       "      <td>b</td>\n",
       "      <td>w</td>\n",
       "      <td>ip.dst == 111.11.111.15</td>\n",
       "    </tr>\n",
       "  </tbody>\n",
       "</table>\n",
       "</div>"
      ],
      "text/plain": [
       "   No File Name Category Sub-category                     Rule\n",
       "0   1    1.pcap        a            x  ip.dst == 111.11.111.11\n",
       "1   2    1.pcap        a            x  ip.dst == 111.11.111.12\n",
       "2   3    1.pcap        a            x  ip.dst == 111.11.111.13\n",
       "3   4    1.pcap        b            w  ip.dst == 111.11.111.14\n",
       "4   5    1.pcap        b            w  ip.dst == 111.11.111.15"
      ]
     },
     "execution_count": 3,
     "metadata": {},
     "output_type": "execute_result"
    }
   ],
   "source": [
    "df = pd.read_csv( \"filter_rules.csv\")\n",
    "df.head()"
   ]
  },
  {
   "cell_type": "code",
   "execution_count": 4,
   "metadata": {},
   "outputs": [],
   "source": [
    "name=df['File Name']\n",
    "rule=df['Rule']\n",
    "cat=df['Category']\n",
    "subcat=df['Sub-category']"
   ]
  },
  {
   "cell_type": "code",
   "execution_count": 5,
   "metadata": {
    "scrolled": false
   },
   "outputs": [],
   "source": [
    "for i in range(len(name)):\n",
    "    add=str(cat[i])+\"@\"+str(subcat[i])+\"_\"\n",
    "    add=add.replace(\" \",\"_\")\n",
    "    \n",
    "    #packets that meet with the filter rules\n",
    "    command='tshark -Y \\\"'+str(rule[i])+\"\\\" -r \"+str(name[i])+\" -w filtered_\"+add+str(name[i])\n",
    "    os.system(command)\n",
    "    #packets that do not meet the filter rules \n",
    "    command='tshark -Y \\\"!('+str(rule[i])+\")\\\" -r \"+str(name[i])+\" -w other_\"+add+str(name[i])\n",
    "    os.system(command)\n",
    "\n",
    "    "
   ]
  },
  {
   "cell_type": "code",
   "execution_count": null,
   "metadata": {},
   "outputs": [],
   "source": []
  },
  {
   "cell_type": "code",
   "execution_count": null,
   "metadata": {},
   "outputs": [],
   "source": []
  }
 ],
 "metadata": {
  "kernelspec": {
   "display_name": "Python 3",
   "language": "python",
   "name": "python3"
  },
  "language_info": {
   "codemirror_mode": {
    "name": "ipython",
    "version": 3
   },
   "file_extension": ".py",
   "mimetype": "text/x-python",
   "name": "python",
   "nbconvert_exporter": "python",
   "pygments_lexer": "ipython3",
   "version": "3.6.5"
  }
 },
 "nbformat": 4,
 "nbformat_minor": 2
}
